{
 "cells": [
  {
   "cell_type": "markdown",
   "metadata": {},
   "source": [
    "## Practical Work 2"
   ]
  },
  {
   "cell_type": "markdown",
   "metadata": {},
   "source": [
    "For this practical work, the student will have to develop a Python program that is able to implement the gradient descent variants (Batch/Mini-Batch/Stochastic) in order to achieve the linear regression of a set of datapoints."
   ]
  },
  {
   "cell_type": "markdown",
   "metadata": {},
   "source": [
    "#### Import numpy, matplotlib.pyplot and make it inline"
   ]
  },
  {
   "cell_type": "code",
   "execution_count": 1,
   "metadata": {},
   "outputs": [],
   "source": [
    "import numpy as np \n",
    "import matplotlib.pyplot as plt \n",
    "import pandas as pd \n",
    "import random"
   ]
  },
  {
   "cell_type": "markdown",
   "metadata": {},
   "source": [
    "To have a dataset or set of data points, the student must generate a pair of arrays <b>X</b> and <b>y</b> with the values in <b>X</b> equally distributed between <b>0</b> and <b>20</b> and the values in <b>y</b> such that: \n",
    "<b>yi = a*xi + b (and a = -2, b = 1)</b>\n"
   ]
  },
  {
   "cell_type": "code",
   "execution_count": 2,
   "metadata": {},
   "outputs": [],
   "source": [
    "X = np.linspace(0,20,50)"
   ]
  },
  {
   "cell_type": "code",
   "execution_count": 3,
   "metadata": {},
   "outputs": [],
   "source": [
    "np.random.shuffle(X)"
   ]
  },
  {
   "cell_type": "code",
   "execution_count": 4,
   "metadata": {},
   "outputs": [],
   "source": [
    "y = -2*X + 1"
   ]
  },
  {
   "cell_type": "code",
   "execution_count": 5,
   "metadata": {},
   "outputs": [],
   "source": [
    "\n",
    "alpha = 0.0001"
   ]
  },
  {
   "cell_type": "markdown",
   "metadata": {},
   "source": [
    "#### Use your code from practical session 1 and create a function to perform GD for single variable linear regression.\n",
    "#### The function should take the following input parameters:\n",
    "##### Input data (X), Target Labels (y), Learning Rate (alpha), Maximum number of iterations\n",
    "#### The function should return the following:\n",
    "##### All Theta_0 and Theta_1 values till converge, and equivellant Losses, all hypothesis output, and optimum values of Theta_0 and Theta_1\n",
    "#### Note: you can choose any suitable stop criteria."
   ]
  },
  {
   "cell_type": "code",
   "execution_count": 6,
   "metadata": {},
   "outputs": [],
   "source": [
    "def Stochastic_GD(X,y,alpha,Max_iter):\n",
    "    _J , _Theta0 , _Theta1 , epoch_J = [] , [] , [] , [] \n",
    "    Theta0 = Theta1 = 0\n",
    "    for i in range(Max_iter):\n",
    "        for r,j in enumerate(X):\n",
    "            Hypothesis = Theta0 + (Theta1 * j)\n",
    "            J =(1/2) * (Hypothesis - y[r])**2\n",
    "            _J.append(J)\n",
    "            grad_theta0 =  (Hypothesis - y[r])\n",
    "            grad_theta1 =  (Hypothesis-y[r]) * j\n",
    "            Theta0 -= (alpha * grad_theta0)\n",
    "            _Theta0.append(Theta0)\n",
    "            Theta1 -= (alpha * grad_theta1) \n",
    "            _Theta1.append(Theta1)\n",
    "        \n",
    "        # Stopping Condition \n",
    "        epoch_J.append(J)\n",
    "        if ((i > 3) and (epoch_J[-1] - epoch_J[-2] < 0.001)):\n",
    "            return _Theta0 , _Theta1 , _J , Theta0 , Theta1\n",
    "    return _Theta0 , _Theta1 , _J , Theta0 , Theta1\n",
    "            \n",
    "    "
   ]
  },
  {
   "cell_type": "markdown",
   "metadata": {},
   "source": [
    "#### Try your function with any input parameterss of your choice."
   ]
  },
  {
   "cell_type": "code",
   "execution_count": 7,
   "metadata": {},
   "outputs": [],
   "source": [
    "_Theta0,_Theta1,_J,Theta0,Theta1 = Stochastic_GD(X,y,0.001,1000)"
   ]
  },
  {
   "cell_type": "code",
   "execution_count": 8,
   "metadata": {},
   "outputs": [
    {
     "data": {
      "text/plain": [
       "-0.07395131874779619"
      ]
     },
     "execution_count": 8,
     "metadata": {},
     "output_type": "execute_result"
    }
   ],
   "source": [
    "Theta0"
   ]
  },
  {
   "cell_type": "code",
   "execution_count": 9,
   "metadata": {},
   "outputs": [
    {
     "data": {
      "text/plain": [
       "-1.9279241479385194"
      ]
     },
     "execution_count": 9,
     "metadata": {},
     "output_type": "execute_result"
    }
   ],
   "source": [
    "Theta1"
   ]
  },
  {
   "cell_type": "code",
   "execution_count": 10,
   "metadata": {},
   "outputs": [],
   "source": [
    "Y_hat = Theta0 + ( Theta1 * X)"
   ]
  },
  {
   "cell_type": "code",
   "execution_count": null,
   "metadata": {},
   "outputs": [],
   "source": []
  },
  {
   "cell_type": "markdown",
   "metadata": {},
   "source": [
    "#### Calculate r2 score"
   ]
  },
  {
   "cell_type": "code",
   "execution_count": 11,
   "metadata": {},
   "outputs": [
    {
     "data": {
      "text/plain": [
       "0.9978023689932856"
      ]
     },
     "execution_count": 11,
     "metadata": {},
     "output_type": "execute_result"
    }
   ],
   "source": [
    "from sklearn.metrics import r2_score\n",
    "r2_score(y, Y_hat)"
   ]
  },
  {
   "cell_type": "code",
   "execution_count": null,
   "metadata": {},
   "outputs": [],
   "source": []
  },
  {
   "cell_type": "code",
   "execution_count": null,
   "metadata": {},
   "outputs": [],
   "source": []
  },
  {
   "cell_type": "markdown",
   "metadata": {},
   "source": [
    "#### Plot loss vs. epochs"
   ]
  },
  {
   "cell_type": "code",
   "execution_count": 12,
   "metadata": {},
   "outputs": [
    {
     "data": {
      "image/png": "[encoded data removed]",
      "text/plain": [
       "<Figure size 432x288 with 1 Axes>"
      ]
     },
     "metadata": {
      "needs_background": "light"
     },
     "output_type": "display_data"
    }
   ],
   "source": [
    "plt.plot(_J)\n",
    "plt.xlabel('Iterations')\n",
    "plt.ylabel('Cost')\n",
    "plt.show()"
   ]
  },
  {
   "cell_type": "code",
   "execution_count": 13,
   "metadata": {
    "scrolled": false
   },
   "outputs": [
    {
     "data": {
      "image/png": "[encoded data removed]",
      "text/plain": [
       "<Figure size 432x288 with 1 Axes>"
      ]
     },
     "metadata": {
      "needs_background": "light"
     },
     "output_type": "display_data"
    }
   ],
   "source": [
    "plt.plot(_Theta0,_J)\n",
    "plt.xlabel('Theta 0 ')\n",
    "plt.ylabel('Cost')\n",
    "plt.show()"
   ]
  },
  {
   "cell_type": "code",
   "execution_count": 14,
   "metadata": {},
   "outputs": [
    {
     "data": {
      "image/png": "[encoded data removed]",
      "text/plain": [
       "<Figure size 432x288 with 1 Axes>"
      ]
     },
     "metadata": {
      "needs_background": "light"
     },
     "output_type": "display_data"
    }
   ],
   "source": [
    "plt.plot(_Theta1,_J)\n",
    "plt.xlabel('Theta 1')\n",
    "plt.ylabel('Cost')\n",
    "plt.show()"
   ]
  },
  {
   "cell_type": "markdown",
   "metadata": {},
   "source": [
    "#### Plot Theta_0 vs. loss and Theta_1 vs. loss"
   ]
  },
  {
   "cell_type": "code",
   "execution_count": 14,
   "metadata": {},
   "outputs": [
    {
     "data": {
      "image/png": "[encoded data removed]",
      "text/plain": [
       "<Figure size 432x288 with 1 Axes>"
      ]
     },
     "metadata": {
      "needs_background": "light"
     },
     "output_type": "display_data"
    }
   ],
   "source": [
    "plt.scatter(X,y)\n",
    "plt.plot(X,Y_hat)\n",
    "plt.show()"
   ]
  },
  {
   "cell_type": "markdown",
   "metadata": {},
   "source": [
    "## MiniBatch implementation \n"
   ]
  },
  {
   "cell_type": "code",
   "execution_count": 16,
   "metadata": {},
   "outputs": [],
   "source": [
    "def MiniBatch_GD(X,y,alpha,Max_iter,batch_size):\n",
    "    X = [X[x:x+batch_size] for x in range(0, len(X), batch_size)]\n",
    "    y = [y[Y:Y+batch_size] for Y in range(0, len(y), batch_size)]\n",
    "    _J , _Theta0 , _Theta1 , epoch_J = [] , [] , [] , []\n",
    "    Theta0 = Theta1 = 0\n",
    "    for i in range(Max_iter):\n",
    "        for j in range(len(X)):\n",
    "            Hypothesis = Theta0 + (Theta1 * X[j])\n",
    "            J =(1/(2*(batch_size))) * np.sum((Hypothesis - y[j])**2)\n",
    "            _J.append(J)\n",
    "            grad_theta0 = (1/batch_size) * np.sum(Hypothesis - y[j])\n",
    "            grad_theta1 = (1/batch_size) * np.dot(Hypothesis-y[j],X[j])\n",
    "            Theta0 -= (alpha * grad_theta0)\n",
    "            _Theta0.append(Theta0)\n",
    "            Theta1 -= (alpha * grad_theta1)\n",
    "            _Theta1.append(Theta1)\n",
    "        epoch_J.append(J)\n",
    "        print(i)\n",
    "        if ((i > 3) and (epoch_J[-1] - epoch_J[-2] < 0.0001)):\n",
    "            return _Theta0 , _Theta1 , _J , Theta0 , Theta1\n",
    "    return _Theta0 , _Theta1 , _J , Theta0 , Theta1"
   ]
  },
  {
   "cell_type": "code",
   "execution_count": 17,
   "metadata": {},
   "outputs": [
    {
     "name": "stdout",
     "output_type": "stream",
     "text": [
      "0\n",
      "1\n",
      "2\n",
      "3\n",
      "4\n"
     ]
    }
   ],
   "source": [
    "_Theta0,_Theta1,_J,Theta0,Theta1 = MiniBatch_GD(X,y,0.001,1000,5)"
   ]
  },
  {
   "cell_type": "code",
   "execution_count": null,
   "metadata": {},
   "outputs": [],
   "source": []
  },
  {
   "cell_type": "code",
   "execution_count": 71,
   "metadata": {},
   "outputs": [],
   "source": [
    "def MiniBatch_GD(X,y,alpha,Max_iter,batch_size):\n",
    "    X = [X[x:x+batch_size] for x in range(0, len(X), batch_size)]\n",
    "    y = [y[Y:Y+batch_size] for Y in range(0, len(y), batch_size)]\n",
    "    _J , _Theta0 , _Theta1 , epoch_J = [] , [] , [] , []\n",
    "    Theta0 = Theta1 = 0\n",
    "    for i in range(Max_iter):\n",
    "        for j in range(len(X)):\n",
    "            Hypothesis = Theta0 + (Theta1 * X[j])\n",
    "            J =(1/(2*(batch_size))) * np.sum((Hypothesis - y[j])**2)\n",
    "            _J.append(J)\n",
    "            grad_theta0 = (1/batch_size) * np.sum(Hypothesis - y[j])\n",
    "            grad_theta1 = (1/batch_size) * np.sum(np.dot(Hypothesis-y[j],X[j]))\n",
    "            Theta0 -= ((alpha/batch_size) * np.sum(Hypothesis - y[j]))\n",
    "            _Theta0.append(Theta0)\n",
    "            Theta1 -= ((alpha/batch_size) * np.sum(np.dot(Hypothesis-y[j],X[j])))\n",
    "            _Theta1.append(Theta1)\n",
    "        epoch_J.append(J)\n",
    "        if ((i > 3) and (epoch_J[-1] - epoch_J[-2] < 0.0001)):\n",
    "            return _Theta0 , _Theta1 , _J , Theta0 , Theta1\n",
    "    return _Theta0 , _Theta1 , _J , Theta0 , Theta1"
   ]
  },
  {
   "cell_type": "code",
   "execution_count": 93,
   "metadata": {},
   "outputs": [
    {
     "name": "stdout",
     "output_type": "stream",
     "text": [
      "0\n",
      "1\n",
      "2\n",
      "3\n",
      "4\n",
      "5\n",
      "6\n"
     ]
    }
   ],
   "source": [
    "_Theta0,_Theta1,_J,Theta0,Theta1 = MiniBatch_GD(X,y,0.001,1000,5)"
   ]
  },
  {
   "cell_type": "code",
   "execution_count": 18,
   "metadata": {},
   "outputs": [
    {
     "data": {
      "text/plain": [
       "-0.13003917155645164"
      ]
     },
     "execution_count": 18,
     "metadata": {},
     "output_type": "execute_result"
    }
   ],
   "source": [
    "Theta0"
   ]
  },
  {
   "cell_type": "code",
   "execution_count": 19,
   "metadata": {},
   "outputs": [
    {
     "data": {
      "text/plain": [
       "-1.9173972415797047"
      ]
     },
     "execution_count": 19,
     "metadata": {},
     "output_type": "execute_result"
    }
   ],
   "source": [
    "Theta1"
   ]
  },
  {
   "cell_type": "code",
   "execution_count": 20,
   "metadata": {},
   "outputs": [],
   "source": [
    "Y_hat = Theta0 + ( Theta1 * X)"
   ]
  },
  {
   "cell_type": "code",
   "execution_count": 21,
   "metadata": {},
   "outputs": [
    {
     "data": {
      "text/plain": [
       "0.9976282064846022"
      ]
     },
     "execution_count": 21,
     "metadata": {},
     "output_type": "execute_result"
    }
   ],
   "source": [
    "from sklearn.metrics import r2_score\n",
    "r2_score(y, Y_hat)"
   ]
  },
  {
   "cell_type": "code",
   "execution_count": 22,
   "metadata": {},
   "outputs": [
    {
     "data": {
      "image/png": "[encoded data removed]",
      "text/plain": [
       "<Figure size 432x288 with 1 Axes>"
      ]
     },
     "metadata": {
      "needs_background": "light"
     },
     "output_type": "display_data"
    }
   ],
   "source": [
    "plt.plot(_J)\n",
    "plt.xlabel('Iterations')\n",
    "plt.ylabel('Cost')\n",
    "plt.show()"
   ]
  },
  {
   "cell_type": "code",
   "execution_count": 23,
   "metadata": {},
   "outputs": [
    {
     "data": {
      "image/png": "[encoded data removed]",
      "text/plain": [
       "<Figure size 432x288 with 1 Axes>"
      ]
     },
     "metadata": {
      "needs_background": "light"
     },
     "output_type": "display_data"
    }
   ],
   "source": [
    "plt.plot(_Theta0,_J)\n",
    "plt.xlabel('Theta 0 ')\n",
    "plt.ylabel('Cost')\n",
    "plt.show()"
   ]
  },
  {
   "cell_type": "code",
   "execution_count": 24,
   "metadata": {},
   "outputs": [
    {
     "data": {
      "image/png": "[encoded data removed]",
      "text/plain": [
       "<Figure size 432x288 with 1 Axes>"
      ]
     },
     "metadata": {
      "needs_background": "light"
     },
     "output_type": "display_data"
    }
   ],
   "source": [
    "plt.plot(_Theta1,_J)\n",
    "plt.xlabel('Theta 1')\n",
    "plt.ylabel('Cost')\n",
    "plt.show()"
   ]
  },
  {
   "cell_type": "code",
   "execution_count": null,
   "metadata": {},
   "outputs": [],
   "source": []
  },
  {
   "cell_type": "code",
   "execution_count": null,
   "metadata": {},
   "outputs": [],
   "source": []
  }
 ],
 "metadata": {
  "kernelspec": {
   "display_name": "Python 3",
   "language": "python",
   "name": "python3"
  },
  "language_info": {
   "codemirror_mode": {
    "name": "ipython",
    "version": 3
   },
   "file_extension": ".py",
   "mimetype": "text/x-python",
   "name": "python",
   "nbconvert_exporter": "python",
   "pygments_lexer": "ipython3",
   "version": "3.8.5"
  }
 },
 "nbformat": 4,
 "nbformat_minor": 4
}
